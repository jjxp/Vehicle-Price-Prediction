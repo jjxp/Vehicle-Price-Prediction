{
 "cells": [
  {
   "cell_type": "code",
   "execution_count": 1,
   "id": "da790868-5f66-4db2-ac40-6d6a6d3909ef",
   "metadata": {},
   "outputs": [],
   "source": [
    "# Import all required dependencies\n",
    "import pandas as pd\n",
    "import numpy as np\n",
    "\n",
    "from sklearn.model_selection import train_test_split\n",
    "from sklearn.compose import ColumnTransformer\n",
    "from sklearn.pipeline import Pipeline\n",
    "from sklearn.impute import SimpleImputer\n",
    "from sklearn.metrics import mean_absolute_error\n",
    "from sklearn.model_selection import cross_val_score\n",
    "from sklearn.ensemble import RandomForestRegressor\n",
    "\n",
    "import category_encoders as ce\n",
    "from xgboost import XGBRegressor\n",
    "\n",
    "import matplotlib.pyplot as plt\n",
    "import seaborn as sns\n",
    "%matplotlib inline\n",
    "from matplotlib.pyplot import xticks"
   ]
  },
  {
   "cell_type": "markdown",
   "id": "0dc75fe0-d712-4cce-a91a-05669244e90e",
   "metadata": {
    "tags": []
   },
   "source": [
    "## Initial data preparation\n",
    "In this step, we'll read the source data and see what we've collected in the previous step.\n",
    "We will also perform some transformations (mainly column datatype casting) to clean the source data before delving into the next steps."
   ]
  },
  {
   "cell_type": "code",
   "execution_count": 2,
   "id": "1fa5e7d4-a1eb-4265-9683-fca76636eb04",
   "metadata": {},
   "outputs": [],
   "source": [
    "# Read the data\n",
    "X = pd.read_csv('vehicle_listing_data.csv')"
   ]
  },
  {
   "cell_type": "code",
   "execution_count": 3,
   "id": "046914ae-04c4-4a0d-8e29-33eeccb07de2",
   "metadata": {},
   "outputs": [
    {
     "data": {
      "text/html": [
       "<div>\n",
       "<style scoped>\n",
       "    .dataframe tbody tr th:only-of-type {\n",
       "        vertical-align: middle;\n",
       "    }\n",
       "\n",
       "    .dataframe tbody tr th {\n",
       "        vertical-align: top;\n",
       "    }\n",
       "\n",
       "    .dataframe thead th {\n",
       "        text-align: right;\n",
       "    }\n",
       "</style>\n",
       "<table border=\"1\" class=\"dataframe\">\n",
       "  <thead>\n",
       "    <tr style=\"text-align: right;\">\n",
       "      <th></th>\n",
       "      <th>Unnamed: 0</th>\n",
       "      <th>title</th>\n",
       "      <th>location</th>\n",
       "      <th>url</th>\n",
       "      <th>desc</th>\n",
       "      <th>price</th>\n",
       "      <th>seller</th>\n",
       "      <th>mileage</th>\n",
       "      <th>year</th>\n",
       "      <th>transmission</th>\n",
       "      <th>doors</th>\n",
       "      <th>hp</th>\n",
       "    </tr>\n",
       "  </thead>\n",
       "  <tbody>\n",
       "    <tr>\n",
       "      <th>0</th>\n",
       "      <td>0</td>\n",
       "      <td>OPEL - CORSA 1.5D DT 74KW 100CV GSLINE</td>\n",
       "      <td>Barcelona</td>\n",
       "      <td>https://www.milanuncios.com/opel-de-segunda-ma...</td>\n",
       "      <td>- precio sujeto a la entrega de vehiculo a cam...</td>\n",
       "      <td>15.900 €</td>\n",
       "      <td>Profesional</td>\n",
       "      <td>5.542 kms</td>\n",
       "      <td>2020</td>\n",
       "      <td>Manual</td>\n",
       "      <td>5 puertas</td>\n",
       "      <td>102 CV</td>\n",
       "    </tr>\n",
       "    <tr>\n",
       "      <th>1</th>\n",
       "      <td>1</td>\n",
       "      <td>CITROEN - C4 PICASSO 1.6 HDI 110CV SEDUCTION</td>\n",
       "      <td>Madrid</td>\n",
       "      <td>https://www.milanuncios.com/citroen-de-segunda...</td>\n",
       "      <td>Único propietario, procedencia nacional. uso a...</td>\n",
       "      <td>8.680 €</td>\n",
       "      <td>Profesional</td>\n",
       "      <td>135.542 kms</td>\n",
       "      <td>2012</td>\n",
       "      <td>Manual</td>\n",
       "      <td>5 puertas</td>\n",
       "      <td>112 CV</td>\n",
       "    </tr>\n",
       "    <tr>\n",
       "      <th>2</th>\n",
       "      <td>2</td>\n",
       "      <td>AUDI - A4 2.0 TDI 150 MULTITRONIC S LINE EDITION</td>\n",
       "      <td>La_coruna</td>\n",
       "      <td>https://www.milanuncios.com/audi-de-segunda-ma...</td>\n",
       "      <td>* autos donaire, +150 vehiculos en stock \\n* v...</td>\n",
       "      <td>13.900 €</td>\n",
       "      <td>Profesional</td>\n",
       "      <td>198.000 kms</td>\n",
       "      <td>2014</td>\n",
       "      <td>Automático</td>\n",
       "      <td>4 puertas</td>\n",
       "      <td>150 CV</td>\n",
       "    </tr>\n",
       "    <tr>\n",
       "      <th>3</th>\n",
       "      <td>3</td>\n",
       "      <td>FIAT - 500X CITY CROSS 1.4 MAIR 103KW140CV 4X2...</td>\n",
       "      <td>Madrid</td>\n",
       "      <td>https://www.milanuncios.com/fiat-de-segunda-ma...</td>\n",
       "      <td>Único propietario, procedencia nacional/// uso...</td>\n",
       "      <td>16.920 €</td>\n",
       "      <td>Profesional</td>\n",
       "      <td>66.425 kms</td>\n",
       "      <td>2018</td>\n",
       "      <td>Automático</td>\n",
       "      <td>5 puertas</td>\n",
       "      <td>140 CV</td>\n",
       "    </tr>\n",
       "    <tr>\n",
       "      <th>4</th>\n",
       "      <td>4</td>\n",
       "      <td>PEUGEOT - 208 PURETECH 73KW 100CV ACTIVE</td>\n",
       "      <td>Alicante</td>\n",
       "      <td>https://www.milanuncios.com/peugeot-de-segunda...</td>\n",
       "      <td>- estamos 100% online y videollamada\\n\\n- cert...</td>\n",
       "      <td>15.800 €</td>\n",
       "      <td>Profesional</td>\n",
       "      <td>6.610 kms</td>\n",
       "      <td>2020</td>\n",
       "      <td>Manual</td>\n",
       "      <td>5 puertas</td>\n",
       "      <td>100 CV</td>\n",
       "    </tr>\n",
       "  </tbody>\n",
       "</table>\n",
       "</div>"
      ],
      "text/plain": [
       "   Unnamed: 0                                              title   location  \\\n",
       "0           0             OPEL - CORSA 1.5D DT 74KW 100CV GSLINE  Barcelona   \n",
       "1           1       CITROEN - C4 PICASSO 1.6 HDI 110CV SEDUCTION     Madrid   \n",
       "2           2   AUDI - A4 2.0 TDI 150 MULTITRONIC S LINE EDITION  La_coruna   \n",
       "3           3  FIAT - 500X CITY CROSS 1.4 MAIR 103KW140CV 4X2...     Madrid   \n",
       "4           4           PEUGEOT - 208 PURETECH 73KW 100CV ACTIVE   Alicante   \n",
       "\n",
       "                                                 url  \\\n",
       "0  https://www.milanuncios.com/opel-de-segunda-ma...   \n",
       "1  https://www.milanuncios.com/citroen-de-segunda...   \n",
       "2  https://www.milanuncios.com/audi-de-segunda-ma...   \n",
       "3  https://www.milanuncios.com/fiat-de-segunda-ma...   \n",
       "4  https://www.milanuncios.com/peugeot-de-segunda...   \n",
       "\n",
       "                                                desc     price       seller  \\\n",
       "0  - precio sujeto a la entrega de vehiculo a cam...  15.900 €  Profesional   \n",
       "1  Único propietario, procedencia nacional. uso a...   8.680 €  Profesional   \n",
       "2  * autos donaire, +150 vehiculos en stock \\n* v...  13.900 €  Profesional   \n",
       "3  Único propietario, procedencia nacional/// uso...  16.920 €  Profesional   \n",
       "4  - estamos 100% online y videollamada\\n\\n- cert...  15.800 €  Profesional   \n",
       "\n",
       "       mileage  year transmission      doors      hp  \n",
       "0    5.542 kms  2020       Manual  5 puertas  102 CV  \n",
       "1  135.542 kms  2012       Manual  5 puertas  112 CV  \n",
       "2  198.000 kms  2014   Automático  4 puertas  150 CV  \n",
       "3   66.425 kms  2018   Automático  5 puertas  140 CV  \n",
       "4    6.610 kms  2020       Manual  5 puertas  100 CV  "
      ]
     },
     "execution_count": 3,
     "metadata": {},
     "output_type": "execute_result"
    }
   ],
   "source": [
    "# Let's take a first look at what we've got\n",
    "X.head()"
   ]
  },
  {
   "cell_type": "code",
   "execution_count": 4,
   "id": "066a5873-d7dd-45e6-924e-5a2d39c9b929",
   "metadata": {},
   "outputs": [],
   "source": [
    "# Drop first index column\n",
    "X.drop(columns = X.columns[0], axis = 1, inplace = True)"
   ]
  },
  {
   "cell_type": "code",
   "execution_count": 5,
   "id": "dde95c75-e026-4cb9-9c2f-61fc39f3df38",
   "metadata": {},
   "outputs": [
    {
     "data": {
      "text/plain": [
       "(13, 11)"
      ]
     },
     "execution_count": 5,
     "metadata": {},
     "output_type": "execute_result"
    }
   ],
   "source": [
    "# There is, particulary, one column with wrong values\n",
    "X['seller'].unique()\n",
    "\n",
    "# Let's see if this is a situation that we should handle in the scraping step, or there's just a few rows which values\n",
    "# differ from the expected ones\n",
    "X[(X.seller != 'Profesional') & (X.seller != 'Ver fotos')].shape"
   ]
  },
  {
   "cell_type": "code",
   "execution_count": 6,
   "id": "18a54fb3-f03d-4d77-a58c-2216cb6e29c1",
   "metadata": {
    "tags": []
   },
   "outputs": [],
   "source": [
    "# There are only 13 rows where the seller is mistaken in the dataset. Drop them.\n",
    "X.drop(X[(X.seller != 'Profesional') & (X.seller != 'Ver fotos')].index, inplace = True)\n",
    "\n",
    "# It's not going to make a difference, but to keep the data clean, let's change 'Ver fotos' with the other\n",
    "# expected value rather than Professional: 'Particular'\n",
    "def clean_seller(row):\n",
    "    '''\n",
    "    Checks the value of the Seller column for a given row and returns whether it's a 'Particular' or a 'Profesional' seller\n",
    "    '''\n",
    "    if row.seller == 'Ver fotos':\n",
    "        return 'Particular'\n",
    "    return row.seller\n",
    "\n",
    "X['seller'] = X.apply(lambda row: clean_seller(row), axis = 1) "
   ]
  },
  {
   "cell_type": "code",
   "execution_count": 7,
   "id": "45300973-f290-4992-8056-f1b67371cf57",
   "metadata": {},
   "outputs": [],
   "source": [
    "def get_brand_model(row):\n",
    "    '''\n",
    "    Gets the Brand and Model for a given row, using information from the Title column\n",
    "    '''\n",
    "    tokenized = row.title.split(' - ')\n",
    "    if len(tokenized) == 1:\n",
    "        tokenized = row.title.split(' ')\n",
    "        brand = tokenized[0]\n",
    "        model = tokenized[1]\n",
    "    else:\n",
    "        brand = tokenized[0]\n",
    "        model = ' '.join(tokenized[1].split(' ')[0:1])\n",
    "    \n",
    "    return (brand, model)\n",
    "\n",
    "def clean_currency(x):\n",
    "    '''\n",
    "    If the given value is a string, returns a clean version without currency symbols or radix characters\n",
    "    '''\n",
    "    if isinstance(x, str):\n",
    "        return(x.replace('€', '').replace('.', ''))\n",
    "    return x\n",
    "\n",
    "def clean_mileage(x):\n",
    "    '''\n",
    "    If the given instance is a string, returns a clean version removing the 'kms' suffix and radix characters.\n",
    "    If a null value is given, return 0.\n",
    "    '''\n",
    "    if isinstance(x, str):\n",
    "        return(x.replace('kms', '').replace('.', ''))\n",
    "    if x is None:\n",
    "        return 0\n",
    "    return x\n",
    "\n",
    "def clean_hp(x):\n",
    "    '''\n",
    "    If the given instance is a string, returns a clean version removing the 'CV' suffix.\n",
    "    If a null value is given, return 0.\n",
    "    '''\n",
    "    if isinstance(x, str):\n",
    "        return(x.replace('CV', ''))\n",
    "    if x is None:\n",
    "        return 0\n",
    "    return x"
   ]
  },
  {
   "cell_type": "code",
   "execution_count": 8,
   "id": "69acf5b5-6655-466c-aef5-c695da699bd3",
   "metadata": {},
   "outputs": [],
   "source": [
    "# Apply transformations to obtain the brand and model for each vehicle\n",
    "X['brand'] = X.apply(lambda row: get_brand_model(row)[0], axis=1)\n",
    "X['model'] = X.apply(lambda row: get_brand_model(row)[1], axis=1)\n",
    "\n",
    "# Apply transformations to clean the price, mileage and horse power columns. Eventually, cast them to integer\n",
    "X.price = X.price.apply(clean_currency).astype('int')\n",
    "X.mileage = X.mileage.apply(clean_mileage).astype('int')\n",
    "X.hp = X.hp.apply(clean_hp).astype('int')"
   ]
  },
  {
   "cell_type": "code",
   "execution_count": 9,
   "id": "e3f9e055-6a06-47a7-91b2-33a2cc5facf3",
   "metadata": {},
   "outputs": [
    {
     "data": {
      "text/plain": [
       "count      6040.000000\n",
       "mean      19136.426490\n",
       "std       16682.818307\n",
       "min           1.000000\n",
       "25%       10337.500000\n",
       "50%       16490.000000\n",
       "75%       24500.000000\n",
       "max      320000.000000\n",
       "Name: price, dtype: float64"
      ]
     },
     "execution_count": 9,
     "metadata": {},
     "output_type": "execute_result"
    },
    {
     "data": {
      "image/png": "[encoded data removed]",
      "text/plain": [
       "<Figure size 360x360 with 1 Axes>"
      ]
     },
     "metadata": {
      "needs_background": "light"
     },
     "output_type": "display_data"
    }
   ],
   "source": [
    "# Let's analyze the Price distribution\n",
    "sns.displot(X['price'])\n",
    "\n",
    "X.price.describe()"
   ]
  },
  {
   "cell_type": "code",
   "execution_count": 10,
   "id": "9127911d-0c3a-48b0-b5ad-9d059a10c289",
   "metadata": {},
   "outputs": [],
   "source": [
    "# In the previous cell, we noticed that the price range varies a lot. There are some ads with unreal prices (like 0€)\n",
    "# and too few vehicles with prices that are way too high. Let's filter out this and focus only on the average cars.\n",
    "X.drop(X[(X.price < 1000) | (X.price > 50000)].index, inplace = True)"
   ]
  },
  {
   "cell_type": "code",
   "execution_count": 11,
   "id": "fd972d89-3158-4bb0-bf11-6448c909724c",
   "metadata": {},
   "outputs": [
    {
     "name": "stderr",
     "output_type": "stream",
     "text": [
      "c:\\users\\javier\\appdata\\local\\programs\\python\\python39\\lib\\site-packages\\seaborn\\_decorators.py:36: FutureWarning: Pass the following variable as a keyword arg: x. From version 0.12, the only valid positional argument will be `data`, and passing other arguments without an explicit keyword will result in an error or misinterpretation.\n",
      "  warnings.warn(\n"
     ]
    },
    {
     "data": {
      "image/png": "[encoded data removed]",
      "text/plain": [
       "<Figure size 1080x216 with 1 Axes>"
      ]
     },
     "metadata": {
      "needs_background": "light"
     },
     "output_type": "display_data"
    },
    {
     "data": {
      "text/plain": [
       "<Figure size 432x288 with 0 Axes>"
      ]
     },
     "metadata": {},
     "output_type": "display_data"
    }
   ],
   "source": [
    "# Let's also see the number of vehicles that we have for each brand\n",
    "fig, ax = plt.subplots(figsize = (15,3))\n",
    "plt1 = sns.countplot(X['brand'], order=pd.value_counts(X['brand']).index,)\n",
    "plt1.set(xlabel = 'Brand', ylabel= 'Number of vehicles')\n",
    "xticks(rotation = 90)\n",
    "plt.show()\n",
    "plt.tight_layout()"
   ]
  },
  {
   "cell_type": "markdown",
   "id": "f9ed2083-eb73-466e-8029-f4603f410e66",
   "metadata": {},
   "source": [
    "## Data preparation for machine learning models\n",
    "In this step, we'll continue working with the data that we've just transformed.\n",
    "Now, we should have a dataset with numerical values where expected and with readable string formats.\n",
    "However, we still can have null or missing values and the data needs to be prepared for Machine Learning.\n",
    "\n",
    "In this section we will separate training data from validation data. We will also perform preprocessing tasks for both numerical and categorical columns."
   ]
  },
  {
   "cell_type": "code",
   "execution_count": 12,
   "id": "37c7797a-61f8-4191-a66c-2b8cb2783517",
   "metadata": {},
   "outputs": [],
   "source": [
    "# Remove rows in which the target data is missing\n",
    "X.dropna(axis=0, subset=['price'], inplace=True)\n",
    "\n",
    "# Separate the target data into a Pandas Series and drop target and features that are not in our interest in the original dataset\n",
    "y = X.price\n",
    "X.drop(['price', 'title', 'url', 'desc'], axis=1, inplace=True)\n",
    "\n",
    "# Break off the data into training and validation dataframes\n",
    "X_train, X_valid, y_train, y_valid = train_test_split(X, y, train_size=0.8, test_size=0.2, random_state=5)"
   ]
  },
  {
   "cell_type": "code",
   "execution_count": 13,
   "id": "1e9a006e-991b-44c0-ab29-c7dcb90f0c15",
   "metadata": {},
   "outputs": [
    {
     "name": "stdout",
     "output_type": "stream",
     "text": [
      "# Low cardinality columns:  ['seller', 'transmission', 'doors']\n",
      "# High cardinality columns:  ['location', 'brand', 'model']\n",
      "# Numerical columns:  ['mileage', 'year', 'hp']\n"
     ]
    }
   ],
   "source": [
    "# Select the categorical columns and separate them into low and high cardinality lists. The threshold is set in 15 unique values.\n",
    "categorical_cols = [cname for cname in X_train.columns if X_train[cname].dtype == \"object\"]\n",
    "\n",
    "low_cardinality_cols = [cname for cname in categorical_cols if X_train[cname].nunique() < 15]\n",
    "high_cardinality_cols = [cname for cname in categorical_cols if X_train[cname].nunique() >= 15]\n",
    "\n",
    "# Select numerical columns\n",
    "numeric_cols = [cname for cname in X_train.columns if X_train[cname].dtype in ('int', 'int32', 'int64')]\n",
    "\n",
    "# Check that we're obtaining the expected results\n",
    "print('# Low cardinality columns: ', low_cardinality_cols)\n",
    "print('# High cardinality columns: ', high_cardinality_cols)\n",
    "print('# Numerical columns: ', numeric_cols)"
   ]
  },
  {
   "cell_type": "code",
   "execution_count": 14,
   "id": "b0ca1434-8e51-4c20-ba46-f83d536dd754",
   "metadata": {},
   "outputs": [],
   "source": [
    "# Preprocessing for numerical data\n",
    "# We will imput the mean values for missing values in numerical columns\n",
    "numerical_transformer = SimpleImputer(strategy='mean')\n",
    "\n",
    "# Preprocessing for categorical data\n",
    "# We will use the most frequent values for missing values in categorical columns with low cardinality and one-hot encode them\n",
    "onehot_categorical_transformer = Pipeline(steps=[\n",
    "    ('imputer', SimpleImputer(strategy='most_frequent')),\n",
    "    ('onehot', ce.OneHotEncoder(handle_unknown='ignore'))\n",
    "])\n",
    "\n",
    "# We will also use the most frequent values for missing values in categorical columns with high cardinality and hash encode them\n",
    "hashing_categorical_transformer = Pipeline(steps=[\n",
    "    ('imputer', SimpleImputer(strategy='most_frequent')),\n",
    "    ('hashing', ce.HashingEncoder())\n",
    "])\n",
    "\n",
    "# Bundle all the previous transformers together\n",
    "preprocessor = ColumnTransformer(\n",
    "    transformers=[\n",
    "        ('num', numerical_transformer, numeric_cols),\n",
    "        ('oh_cat', onehot_categorical_transformer, low_cardinality_cols),\n",
    "        ('hash_cat', hashing_categorical_transformer, high_cardinality_cols)\n",
    "    ])"
   ]
  },
  {
   "cell_type": "markdown",
   "id": "e26b1873-785c-4c75-aabd-347498874f65",
   "metadata": {},
   "source": [
    "## Machine Learning algorithms\n",
    "Now, our data is finally ready and we'll create a model using different supervised Machine Learning algorithms and we will compare the mean absolute error that we obtain from each of these."
   ]
  },
  {
   "cell_type": "code",
   "execution_count": 15,
   "id": "2ff39812-c137-4cd9-8705-8ea3f25be170",
   "metadata": {},
   "outputs": [
    {
     "name": "stderr",
     "output_type": "stream",
     "text": [
      "c:\\users\\javier\\appdata\\local\\programs\\python\\python39\\lib\\site-packages\\category_encoders\\utils.py:21: FutureWarning: is_categorical is deprecated and will be removed in a future version.  Use is_categorical_dtype instead\n",
      "  elif pd.api.types.is_categorical(cols):\n"
     ]
    },
    {
     "data": {
      "text/plain": [
       "Pipeline(steps=[('preprocessor',\n",
       "                 ColumnTransformer(transformers=[('num', SimpleImputer(),\n",
       "                                                  ['mileage', 'year', 'hp']),\n",
       "                                                 ('oh_cat',\n",
       "                                                  Pipeline(steps=[('imputer',\n",
       "                                                                   SimpleImputer(strategy='most_frequent')),\n",
       "                                                                  ('onehot',\n",
       "                                                                   OneHotEncoder(handle_unknown='ignore'))]),\n",
       "                                                  ['seller', 'transmission',\n",
       "                                                   'doors']),\n",
       "                                                 ('hash_cat',\n",
       "                                                  Pipeline(steps=[('imputer',\n",
       "                                                                   SimpleImputer(strategy='most_frequ...\n",
       "                              colsample_bytree=1, gamma=0, gpu_id=-1,\n",
       "                              importance_type='gain',\n",
       "                              interaction_constraints='', learning_rate=0.05,\n",
       "                              max_delta_step=0, max_depth=6, min_child_weight=1,\n",
       "                              missing=nan, monotone_constraints='()',\n",
       "                              n_estimators=1000, n_jobs=4, num_parallel_tree=1,\n",
       "                              random_state=0, reg_alpha=0, reg_lambda=1,\n",
       "                              scale_pos_weight=1, subsample=1,\n",
       "                              tree_method='exact', validate_parameters=1,\n",
       "                              verbosity=None))])"
      ]
     },
     "execution_count": 15,
     "metadata": {},
     "output_type": "execute_result"
    }
   ],
   "source": [
    "# Create a Cross Gradient Regressor model\n",
    "# We're setting 1000 estimators, a learning rate of 0.05 and 4 jobs to run in paralel\n",
    "model = XGBRegressor(n_estimators=1000, learning_rate=0.05, n_jobs=4)\n",
    "\n",
    "# Create a pipeline that will perform all the preprocessing steps when fitting our datasets\n",
    "pipeline = Pipeline(steps=[('preprocessor', preprocessor),\n",
    "                              ('model', model)\n",
    "                             ])\n",
    "\n",
    "# Fit model for training data\n",
    "pipeline.fit(X_train, y_train)"
   ]
  },
  {
   "cell_type": "code",
   "execution_count": 16,
   "id": "1915733d-932b-4305-904f-dc789720c25e",
   "metadata": {},
   "outputs": [
    {
     "name": "stdout",
     "output_type": "stream",
     "text": [
      "MAE:  1564.5062986606185\n"
     ]
    }
   ],
   "source": [
    "# Perform predictions over the validation data\n",
    "preditions = pipeline.predict(X_valid)\n",
    "\n",
    "# Evaluate the model\n",
    "mae = mean_absolute_error(y_valid, preditions)\n",
    "print('MAE: ', mae)"
   ]
  }
 ],
 "metadata": {
  "kernelspec": {
   "display_name": "Python 3 (ipykernel)",
   "language": "python",
   "name": "python3"
  },
  "language_info": {
   "codemirror_mode": {
    "name": "ipython",
    "version": 3
   },
   "file_extension": ".py",
   "mimetype": "text/x-python",
   "name": "python",
   "nbconvert_exporter": "python",
   "pygments_lexer": "ipython3",
   "version": "3.9.6"
  }
 },
 "nbformat": 4,
 "nbformat_minor": 5
}
